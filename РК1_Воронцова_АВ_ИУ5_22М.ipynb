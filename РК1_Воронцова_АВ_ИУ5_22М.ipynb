{
  "nbformat": 4,
  "nbformat_minor": 0,
  "metadata": {
    "colab": {
      "provenance": []
    },
    "kernelspec": {
      "name": "python3",
      "display_name": "Python 3"
    },
    "language_info": {
      "name": "python"
    }
  },
  "cells": [
    {
      "cell_type": "markdown",
      "source": [
        "### **Воронцова Алина Владимировна**\n",
        "### ИУ5-22М\n",
        "### Вариант 4\n",
        "\n",
        "*Задача №1: 4*\n",
        "- Для набора данных проведите кодирование одного (произвольного) категориального признака с использованием метода \"label encoding\".\n",
        "\n",
        "*Задача №2: 24*\n",
        "- Для набора данных для одного (произвольного) числового признака проведите обнаружение и удаление выбросов на основе 5% и 95% квантилей.\n",
        "\n",
        "*Дополнительно:*\n",
        "- Для произвольной колонки данных построить гистограмму."
      ],
      "metadata": {
        "id": "fP3K-aeCvXks"
      }
    },
    {
      "cell_type": "markdown",
      "source": [
        "### **Задача №1**\n",
        "\n",
        "В качестве примера возьмем популярный набор данных \"Titanic\" из открытых источников."
      ],
      "metadata": {
        "id": "u2Dt-vxUw0pA"
      }
    },
    {
      "cell_type": "code",
      "source": [
        "import pandas as pd\n",
        "from sklearn.preprocessing import LabelEncoder\n",
        "\n",
        "# Загрузка набора данных Titanic с помощью pandas\n",
        "url = 'https://raw.githubusercontent.com/datasciencedojo/datasets/master/titanic.csv'\n",
        "df = pd.read_csv(url)\n",
        "\n",
        "# Предварительный анализ данных\n",
        "print(\"Первые 5 строк набора данных Titanic:\")\n",
        "print(df.head())\n",
        "\n",
        "print(\"\\nИнформация о наборе данных:\")\n",
        "print(df.info())\n",
        "\n",
        "# Выберем категориальный признак для кодирования, например, 'Sex'\n",
        "print(\"\\nУникальные значения в столбце 'Sex':\")\n",
        "print(df['Sex'].unique())\n",
        "\n",
        "# Создаем объект LabelEncoder\n",
        "label_encoder = LabelEncoder()\n",
        "\n",
        "# Применяем label encoding к столбцу 'Sex'\n",
        "df['Sex_encoded'] = label_encoder.fit_transform(df['Sex'])\n",
        "\n",
        "print(\"\\nПервые 5 строк набора данных после применения label encoding к столбцу 'Sex':\")\n",
        "print(df[['Sex', 'Sex_encoded']].head())\n"
      ],
      "metadata": {
        "colab": {
          "base_uri": "https://localhost:8080/"
        },
        "id": "-86MNopIxPwK",
        "outputId": "55a03ae5-dec8-41ec-f25f-3a2b4ef38063"
      },
      "execution_count": 1,
      "outputs": [
        {
          "output_type": "stream",
          "name": "stdout",
          "text": [
            "Первые 5 строк набора данных Titanic:\n",
            "   PassengerId  Survived  Pclass  \\\n",
            "0            1         0       3   \n",
            "1            2         1       1   \n",
            "2            3         1       3   \n",
            "3            4         1       1   \n",
            "4            5         0       3   \n",
            "\n",
            "                                                Name     Sex   Age  SibSp  \\\n",
            "0                            Braund, Mr. Owen Harris    male  22.0      1   \n",
            "1  Cumings, Mrs. John Bradley (Florence Briggs Th...  female  38.0      1   \n",
            "2                             Heikkinen, Miss. Laina  female  26.0      0   \n",
            "3       Futrelle, Mrs. Jacques Heath (Lily May Peel)  female  35.0      1   \n",
            "4                           Allen, Mr. William Henry    male  35.0      0   \n",
            "\n",
            "   Parch            Ticket     Fare Cabin Embarked  \n",
            "0      0         A/5 21171   7.2500   NaN        S  \n",
            "1      0          PC 17599  71.2833   C85        C  \n",
            "2      0  STON/O2. 3101282   7.9250   NaN        S  \n",
            "3      0            113803  53.1000  C123        S  \n",
            "4      0            373450   8.0500   NaN        S  \n",
            "\n",
            "Информация о наборе данных:\n",
            "<class 'pandas.core.frame.DataFrame'>\n",
            "RangeIndex: 891 entries, 0 to 890\n",
            "Data columns (total 12 columns):\n",
            " #   Column       Non-Null Count  Dtype  \n",
            "---  ------       --------------  -----  \n",
            " 0   PassengerId  891 non-null    int64  \n",
            " 1   Survived     891 non-null    int64  \n",
            " 2   Pclass       891 non-null    int64  \n",
            " 3   Name         891 non-null    object \n",
            " 4   Sex          891 non-null    object \n",
            " 5   Age          714 non-null    float64\n",
            " 6   SibSp        891 non-null    int64  \n",
            " 7   Parch        891 non-null    int64  \n",
            " 8   Ticket       891 non-null    object \n",
            " 9   Fare         891 non-null    float64\n",
            " 10  Cabin        204 non-null    object \n",
            " 11  Embarked     889 non-null    object \n",
            "dtypes: float64(2), int64(5), object(5)\n",
            "memory usage: 83.7+ KB\n",
            "None\n",
            "\n",
            "Уникальные значения в столбце 'Sex':\n",
            "['male' 'female']\n",
            "\n",
            "Первые 5 строк набора данных после применения label encoding к столбцу 'Sex':\n",
            "      Sex  Sex_encoded\n",
            "0    male            1\n",
            "1  female            0\n",
            "2  female            0\n",
            "3  female            0\n",
            "4    male            1\n"
          ]
        }
      ]
    },
    {
      "cell_type": "markdown",
      "source": [
        "### **Задача №2**\n",
        "Проведем данную работу на признаке Age"
      ],
      "metadata": {
        "id": "JqMM7VfOxlZJ"
      }
    },
    {
      "cell_type": "code",
      "source": [
        "\n",
        "# Выберем числовой признак для анализа выбросов, например, 'Age'\n",
        "print(\"\\nСтатистическая информация о столбце 'Age':\")\n",
        "print(df['Age'].describe())\n",
        "\n",
        "# Рассчитаем 5% и 95% квантили для столбца 'Age'\n",
        "q_low = df['Age'].quantile(0.05)\n",
        "q_high = df['Age'].quantile(0.95)\n",
        "\n",
        "print(f\"\\n5% квантиль для 'Age': {q_low}\")\n",
        "print(f\"95% квантиль для 'Age': {q_high}\")\n",
        "\n",
        "# Удалим выбросы на основе этих квантилей\n",
        "df_filtered = df[(df['Age'] >= q_low) & (df['Age'] <= q_high)]\n",
        "\n",
        "print(\"\\nСтатистическая информация о столбце 'Age' после удаления выбросов:\")\n",
        "print(df_filtered['Age'].describe())\n",
        "\n",
        "print(\"\\nПервые 5 строк набора данных после удаления выбросов:\")\n",
        "print(df_filtered.head())\n"
      ],
      "metadata": {
        "colab": {
          "base_uri": "https://localhost:8080/"
        },
        "id": "CgrW8_Gdxk9S",
        "outputId": "159e8e23-b69c-4daa-ade1-bbc6e37af4cc"
      },
      "execution_count": 2,
      "outputs": [
        {
          "output_type": "stream",
          "name": "stdout",
          "text": [
            "\n",
            "Статистическая информация о столбце 'Age':\n",
            "count    714.000000\n",
            "mean      29.699118\n",
            "std       14.526497\n",
            "min        0.420000\n",
            "25%       20.125000\n",
            "50%       28.000000\n",
            "75%       38.000000\n",
            "max       80.000000\n",
            "Name: Age, dtype: float64\n",
            "\n",
            "5% квантиль для 'Age': 4.0\n",
            "95% квантиль для 'Age': 56.0\n",
            "\n",
            "Статистическая информация о столбце 'Age' после удаления выбросов:\n",
            "count    649.000000\n",
            "mean      29.184129\n",
            "std       11.537395\n",
            "min        4.000000\n",
            "25%       21.000000\n",
            "50%       28.000000\n",
            "75%       36.000000\n",
            "max       56.000000\n",
            "Name: Age, dtype: float64\n",
            "\n",
            "Первые 5 строк набора данных после удаления выбросов:\n",
            "   PassengerId  Survived  Pclass  \\\n",
            "0            1         0       3   \n",
            "1            2         1       1   \n",
            "2            3         1       3   \n",
            "3            4         1       1   \n",
            "4            5         0       3   \n",
            "\n",
            "                                                Name     Sex   Age  SibSp  \\\n",
            "0                            Braund, Mr. Owen Harris    male  22.0      1   \n",
            "1  Cumings, Mrs. John Bradley (Florence Briggs Th...  female  38.0      1   \n",
            "2                             Heikkinen, Miss. Laina  female  26.0      0   \n",
            "3       Futrelle, Mrs. Jacques Heath (Lily May Peel)  female  35.0      1   \n",
            "4                           Allen, Mr. William Henry    male  35.0      0   \n",
            "\n",
            "   Parch            Ticket     Fare Cabin Embarked  Sex_encoded  \n",
            "0      0         A/5 21171   7.2500   NaN        S            1  \n",
            "1      0          PC 17599  71.2833   C85        C            0  \n",
            "2      0  STON/O2. 3101282   7.9250   NaN        S            0  \n",
            "3      0            113803  53.1000  C123        S            0  \n",
            "4      0            373450   8.0500   NaN        S            1  \n"
          ]
        }
      ]
    },
    {
      "cell_type": "markdown",
      "source": [
        "### **Дополнительно**"
      ],
      "metadata": {
        "id": "2GCkhSy-yCRF"
      }
    },
    {
      "cell_type": "code",
      "source": [
        "import matplotlib.pyplot as plt\n",
        "\n",
        "# Построение гистограммы для столбца 'Age'\n",
        "plt.figure(figsize=(10, 6))\n",
        "plt.hist(df['Age'].dropna(), bins=30, edgecolor='k', alpha=0.7)\n",
        "plt.title('Гистограмма возраста пассажиров Titanic')\n",
        "plt.xlabel('Возраст')\n",
        "plt.ylabel('Частота')\n",
        "plt.grid(True)\n",
        "plt.show()\n"
      ],
      "metadata": {
        "colab": {
          "base_uri": "https://localhost:8080/",
          "height": 564
        },
        "id": "g92fGQAyyKrO",
        "outputId": "92ece963-652a-470d-a4fd-a2278e30fa64"
      },
      "execution_count": 3,
      "outputs": [
        {
          "output_type": "display_data",
          "data": {
            "text/plain": [
              "<Figure size 1000x600 with 1 Axes>"
            ],
            "image/png": "[encoded data removed]"
          },
          "metadata": {}
        }
      ]
    }
  ]
}